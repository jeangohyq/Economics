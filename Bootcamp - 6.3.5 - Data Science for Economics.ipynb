{
 "cells": [
  {
   "cell_type": "code",
   "execution_count": 10,
   "metadata": {},
   "outputs": [],
   "source": [
    "import numpy as np\n",
    "import pandas as pd\n",
    "import matplotlib.pyplot as plt\n",
    "%matplotlib inline"
   ]
  },
  {
   "cell_type": "code",
   "execution_count": 11,
   "metadata": {},
   "outputs": [],
   "source": [
    "df = pd.read_csv('inflation fed funds.csv')"
   ]
  },
  {
   "cell_type": "code",
   "execution_count": 12,
   "metadata": {},
   "outputs": [
    {
     "name": "stdout",
     "output_type": "stream",
     "text": [
      "         DATE  FEDFUNDS  CPIAUCSL_PC1\n",
      "0  1970-01-01      8.57       6.22578\n",
      "1  1970-04-01      7.88       6.03848\n",
      "2  1970-07-01      6.70       5.68597\n",
      "3  1970-10-01      5.57       5.60000\n",
      "4  1971-01-01      3.86       4.81102\n"
     ]
    }
   ],
   "source": [
    "print(df.head())"
   ]
  },
  {
   "cell_type": "code",
   "execution_count": 13,
   "metadata": {},
   "outputs": [],
   "source": [
    "df['FedFunds_Change'] = df.FEDFUNDS.diff() \n",
    "df.dropna(inplace=True)"
   ]
  },
  {
   "cell_type": "code",
   "execution_count": 14,
   "metadata": {},
   "outputs": [
    {
     "name": "stdout",
     "output_type": "stream",
     "text": [
      "           DATE  FEDFUNDS  CPIAUCSL_PC1  FedFunds_Change\n",
      "187  2016-10-01      0.45       1.80295             0.05\n",
      "188  2017-01-01      0.70       2.56508             0.25\n",
      "189  2017-04-01      0.95       1.90351             0.25\n",
      "190  2017-07-01      1.15       1.97424             0.20\n",
      "191  2017-10-01      1.20       2.11581             0.05\n"
     ]
    }
   ],
   "source": [
    "print(df.tail())"
   ]
  },
  {
   "cell_type": "code",
   "execution_count": 15,
   "metadata": {},
   "outputs": [
    {
     "name": "stdout",
     "output_type": "stream",
     "text": [
      "coefficients: [0.99918089]\n",
      "intercept: 1.2073164865356478\n",
      "score: 0.5755449111613605\n"
     ]
    }
   ],
   "source": [
    "from sklearn.linear_model import LinearRegression\n",
    "lm = LinearRegression()\n",
    "\n",
    "X = pd.DataFrame(df.CPIAUCSL_PC1)\n",
    "y = list(df.FEDFUNDS)\n",
    "\n",
    "lm.fit(X,y)\n",
    "print('coefficients: ' + str(lm.coef_))\n",
    "print('intercept: ' + str(lm.intercept_))\n",
    "print('score: ' + str(lm.score(X,y)))"
   ]
  },
  {
   "cell_type": "markdown",
   "metadata": {},
   "source": [
    "For every 1 percentage point increase in CPI inflation, Fed Fund Rate will increase by near 1 ppt. Seems like a pretty linear relationship!"
   ]
  },
  {
   "cell_type": "markdown",
   "metadata": {},
   "source": [
    "df.index = pd.to_datetime(df.DATE)\n",
    "df[['CPIAUCSL_PC1', 'FEDFUNDS']].plot()\n",
    "plt.title('CPI, FedFunds')\n",
    "plt.show()"
   ]
  },
  {
   "cell_type": "code",
   "execution_count": 20,
   "metadata": {},
   "outputs": [
    {
     "data": {
      "image/png": "[encoded data removed]",
      "text/plain": [
       "<matplotlib.figure.Figure at 0x114c91630>"
      ]
     },
     "metadata": {},
     "output_type": "display_data"
    }
   ],
   "source": [
    "plt.scatter(x = df.CPIAUCSL_PC1, y = df.FEDFUNDS)\n",
    "plt.title('Inflation against Fed Funds')\n",
    "plt.xlabel('CPI')\n",
    "plt.ylabel('Fed Funds')\n",
    "plt.show()"
   ]
  },
  {
   "cell_type": "markdown",
   "metadata": {},
   "source": [
    "Fed will raise rates when inflation goes up. \n",
    "Even while CPI increases, Fed Fund Rate stays near 0 (not below) because there isn't a negative interest rate policy."
   ]
  },
  {
   "cell_type": "code",
   "execution_count": null,
   "metadata": {},
   "outputs": [],
   "source": []
  },
  {
   "cell_type": "code",
   "execution_count": 22,
   "metadata": {},
   "outputs": [
    {
     "data": {
      "image/png": "[encoded data removed]",
      "text/plain": [
       "<matplotlib.figure.Figure at 0x114c242e8>"
      ]
     },
     "metadata": {},
     "output_type": "display_data"
    }
   ],
   "source": [
    "plt.boxplot([df.CPIAUCSL_PC1, df.FEDFUNDS])\n",
    "plt.xticks([1,2], ['CPI','FedFunds Rate'])\n",
    "plt.show()"
   ]
  },
  {
   "cell_type": "markdown",
   "metadata": {},
   "source": [
    "CPI shows a higher number of outliers. "
   ]
  },
  {
   "cell_type": "code",
   "execution_count": 24,
   "metadata": {},
   "outputs": [
    {
     "name": "stdout",
     "output_type": "stream",
     "text": [
      "coefficients: [1.16217623]\n",
      "intercept: 0.19722761983818937\n",
      "score: 0.5523697207690508\n"
     ]
    }
   ],
   "source": [
    "from sklearn.linear_model import TheilSenRegressor\n",
    "tsr = TheilSenRegressor()\n",
    "\n",
    "tsr.fit(X,y)\n",
    "print('coefficients: ' + str(tsr.coef_))\n",
    "print('intercept: ' + str(tsr.intercept_))\n",
    "print('score: ' + str(tsr.score(X,y)))"
   ]
  },
  {
   "cell_type": "markdown",
   "metadata": {},
   "source": [
    "TheilSen Regressor shows 1.16% increase in CPI leads to a 1% increase in Fed Funds Rate. ThielSen works well for errors in the input."
   ]
  },
  {
   "cell_type": "code",
   "execution_count": 27,
   "metadata": {},
   "outputs": [
    {
     "data": {
      "image/png": "[encoded data removed]",
      "text/plain": [
       "<matplotlib.figure.Figure at 0x114f9a748>"
      ]
     },
     "metadata": {},
     "output_type": "display_data"
    }
   ],
   "source": [
    "robust = [tsr.coef_[0] * i + tsr.intercept_ for i in range(-6, 10)]\n",
    "linear = [lm.coef_[0] * i + lm.intercept_ for i in range(-6, 10)]\n",
    "\n",
    "plt.scatter(x = df.CPIAUCSL_PC1, y = df.FEDFUNDS, label='Raw Data')\n",
    "plt.plot(range(-6,10), robust, label='Robust')\n",
    "plt.plot(range(-6,10), linear, 'r', label='Linear')\n",
    "plt.legend()\n",
    "plt.title('Inflation vs Fed Funds Rate')\n",
    "plt.xlabel('CPI')\n",
    "plt.ylabel('Fed Funds Rate')\n",
    "plt.show()"
   ]
  },
  {
   "cell_type": "code",
   "execution_count": 25,
   "metadata": {},
   "outputs": [
    {
     "name": "stdout",
     "output_type": "stream",
     "text": [
      "coefficients: [0.99491514]\n",
      "intercept: 1.076639855933661\n",
      "score: 0.574105812152363\n"
     ]
    }
   ],
   "source": [
    "from sklearn.linear_model import HuberRegressor\n",
    "hr = HuberRegressor()\n",
    "\n",
    "hr.fit(X,y)\n",
    "print('coefficients: ' + str(hr.coef_))\n",
    "print('intercept: ' + str(hr.intercept_))\n",
    "print('score: ' + str(hr.score(X,y)))"
   ]
  },
  {
   "cell_type": "markdown",
   "metadata": {},
   "source": [
    "Huber Regressor shows 0.995% increase in CPI leads to a 1% increase in Fed Funds Rate. Huber weighting offers us a way to limit the impact of outliers while still extracting information from them."
   ]
  },
  {
   "cell_type": "code",
   "execution_count": null,
   "metadata": {},
   "outputs": [],
   "source": []
  }
 ],
 "metadata": {
  "kernelspec": {
   "display_name": "Python 3",
   "language": "python",
   "name": "python3"
  },
  "language_info": {
   "codemirror_mode": {
    "name": "ipython",
    "version": 3
   },
   "file_extension": ".py",
   "mimetype": "text/x-python",
   "name": "python",
   "nbconvert_exporter": "python",
   "pygments_lexer": "ipython3",
   "version": "3.6.3"
  }
 },
 "nbformat": 4,
 "nbformat_minor": 2
}
